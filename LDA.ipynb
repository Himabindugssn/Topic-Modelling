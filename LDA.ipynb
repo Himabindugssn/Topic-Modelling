{
  "nbformat": 4,
  "nbformat_minor": 0,
  "metadata": {
    "colab": {
      "name": "LDA.ipynb",
      "provenance": []
    },
    "kernelspec": {
      "name": "python3",
      "display_name": "Python 3"
    }
  },
  "cells": [
    {
      "cell_type": "markdown",
      "metadata": {
        "id": "6kHjMVot-swL"
      },
      "source": [
        "# Install necessary libraries"
      ]
    },
    {
      "cell_type": "code",
      "metadata": {
        "id": "In9y1sMZO4N1",
        "colab": {
          "base_uri": "https://localhost:8080/"
        },
        "outputId": "f6c59699-e820-499f-dd7c-4a1fbdbd2283"
      },
      "source": [
        "!pip install emoji"
      ],
      "execution_count": 1,
      "outputs": [
        {
          "output_type": "stream",
          "text": [
            "Collecting emoji\n",
            "\u001b[?25l  Downloading https://files.pythonhosted.org/packages/ff/1c/1f1457fe52d0b30cbeebfd578483cedb3e3619108d2d5a21380dfecf8ffd/emoji-0.6.0.tar.gz (51kB)\n",
            "\r\u001b[K     |██████▍                         | 10kB 15.2MB/s eta 0:00:01\r\u001b[K     |████████████▉                   | 20kB 20.6MB/s eta 0:00:01\r\u001b[K     |███████████████████▎            | 30kB 11.1MB/s eta 0:00:01\r\u001b[K     |█████████████████████████▊      | 40kB 8.6MB/s eta 0:00:01\r\u001b[K     |████████████████████████████████| 51kB 2.8MB/s \n",
            "\u001b[?25hBuilding wheels for collected packages: emoji\n",
            "  Building wheel for emoji (setup.py) ... \u001b[?25l\u001b[?25hdone\n",
            "  Created wheel for emoji: filename=emoji-0.6.0-cp36-none-any.whl size=49716 sha256=352ab73492743b5f80ad4900fbcc82c9c03756137f051de6ee27aace67c72be4\n",
            "  Stored in directory: /root/.cache/pip/wheels/46/2c/8b/9dcf5216ca68e14e0320e283692dce8ae321cdc01e73e17796\n",
            "Successfully built emoji\n",
            "Installing collected packages: emoji\n",
            "Successfully installed emoji-0.6.0\n"
          ],
          "name": "stdout"
        }
      ]
    },
    {
      "cell_type": "code",
      "metadata": {
        "id": "YInR5x7Ywdk_"
      },
      "source": [
        "# importing the library for the analysis \n",
        "import pandas as pd \n",
        "import numpy as np\n",
        "import glob \n",
        "import os \n",
        "import pandas as pd\n",
        "import re\n",
        "import warnings\n",
        "warnings.filterwarnings('ignore')\n",
        "import numpy as np\n",
        "from sklearn.model_selection import train_test_split\n",
        "from sklearn.feature_extraction.text import CountVectorizer\n",
        "from nltk.tokenize import TweetTokenizer\n",
        "from keras.preprocessing.text import Tokenizer\n",
        "from keras.preprocessing import sequence\n",
        "from sklearn.feature_extraction.text import TfidfVectorizer\n",
        "#from keras import Sequential\n",
        "import emoji\n",
        "import re\n",
        "\n",
        "#from google.colab import drive\n",
        "#drive.mount('/content/gdrive')\n",
        "%matplotlib inline"
      ],
      "execution_count": 2,
      "outputs": []
    },
    {
      "cell_type": "code",
      "metadata": {
        "colab": {
          "base_uri": "https://localhost:8080/"
        },
        "id": "VzE9MwFFwfY4",
        "outputId": "fd889987-c0a9-4a70-c398-778a22e7b50e"
      },
      "source": [
        "from google.colab import drive\n",
        "drive.mount('/content/drive')"
      ],
      "execution_count": 3,
      "outputs": [
        {
          "output_type": "stream",
          "text": [
            "Mounted at /content/drive\n"
          ],
          "name": "stdout"
        }
      ]
    },
    {
      "cell_type": "markdown",
      "metadata": {
        "id": "Y4z3y9Xj-xVr"
      },
      "source": [
        "# Import data"
      ]
    },
    {
      "cell_type": "code",
      "metadata": {
        "id": "Hfc9GiJQwhQC"
      },
      "source": [
        "twitter = pd.read_csv('/content/drive/My Drive/master_twitter_01.csv')\n"
      ],
      "execution_count": 4,
      "outputs": []
    },
    {
      "cell_type": "code",
      "metadata": {
        "colab": {
          "base_uri": "https://localhost:8080/",
          "height": 547
        },
        "id": "MmOqqEvpwqL2",
        "outputId": "efdf3afa-1217-4c8c-e638-cb4d94baa4d0"
      },
      "source": [
        "twitter.head()"
      ],
      "execution_count": 5,
      "outputs": [
        {
          "output_type": "execute_result",
          "data": {
            "text/html": [
              "<div>\n",
              "<style scoped>\n",
              "    .dataframe tbody tr th:only-of-type {\n",
              "        vertical-align: middle;\n",
              "    }\n",
              "\n",
              "    .dataframe tbody tr th {\n",
              "        vertical-align: top;\n",
              "    }\n",
              "\n",
              "    .dataframe thead th {\n",
              "        text-align: right;\n",
              "    }\n",
              "</style>\n",
              "<table border=\"1\" class=\"dataframe\">\n",
              "  <thead>\n",
              "    <tr style=\"text-align: right;\">\n",
              "      <th></th>\n",
              "      <th>No</th>\n",
              "      <th>Source</th>\n",
              "      <th>Host</th>\n",
              "      <th>Link</th>\n",
              "      <th>Date(ET)</th>\n",
              "      <th>Time(ET)</th>\n",
              "      <th>LocalTime</th>\n",
              "      <th>Category</th>\n",
              "      <th>Author ID</th>\n",
              "      <th>Author Name</th>\n",
              "      <th>Author URL</th>\n",
              "      <th>Authority</th>\n",
              "      <th>Followers</th>\n",
              "      <th>Following</th>\n",
              "      <th>Age</th>\n",
              "      <th>Gender</th>\n",
              "      <th>Language</th>\n",
              "      <th>Country</th>\n",
              "      <th>Province/State</th>\n",
              "      <th>City</th>\n",
              "      <th>Location</th>\n",
              "      <th>Sentiment</th>\n",
              "      <th>Themes</th>\n",
              "      <th>Classifications</th>\n",
              "      <th>Entities</th>\n",
              "      <th>Alexa Rank</th>\n",
              "      <th>Alexa Reach</th>\n",
              "      <th>Title</th>\n",
              "      <th>Snippet</th>\n",
              "      <th>Contents</th>\n",
              "      <th>Summary</th>\n",
              "      <th>Bio</th>\n",
              "      <th>Unique ID</th>\n",
              "      <th>Post Source</th>\n",
              "      <th>OK</th>\n",
              "      <th>OK1</th>\n",
              "    </tr>\n",
              "  </thead>\n",
              "  <tbody>\n",
              "    <tr>\n",
              "      <th>0</th>\n",
              "      <td>2.0</td>\n",
              "      <td>TWITTER</td>\n",
              "      <td>http://www.twitter.com</td>\n",
              "      <td>http://twitter.com/GNSERVICESFZD/statuses/1096...</td>\n",
              "      <td>2019-02-14</td>\n",
              "      <td>13:28:54</td>\n",
              "      <td>14 Feb 2019 23:58:54</td>\n",
              "      <td>NaN</td>\n",
              "      <td>GNSERVICESFZD</td>\n",
              "      <td>Gaurav Yadav</td>\n",
              "      <td>http://twitter.com/gnservicesfzd</td>\n",
              "      <td>1.0</td>\n",
              "      <td>3.0</td>\n",
              "      <td>83.0</td>\n",
              "      <td>NaN</td>\n",
              "      <td>MALE</td>\n",
              "      <td>English</td>\n",
              "      <td>India</td>\n",
              "      <td>delhi</td>\n",
              "      <td>new delhi</td>\n",
              "      <td>New Delhi, India</td>\n",
              "      <td>NEUTRAL</td>\n",
              "      <td>politics;</td>\n",
              "      <td>Person.government_employee;</td>\n",
              "      <td>United States Secretary of Health and Human Se...</td>\n",
              "      <td>NaN</td>\n",
              "      <td>NaN</td>\n",
              "      <td>NaN</td>\n",
              "      <td>GST SERVICES @â¹1000 https://t.co/LRN921K3x7</td>\n",
              "      <td>GST SERVICES @â¹1000 https://t.co/LRN921K3x7</td>\n",
              "      <td>GST SERVICES @â¹1000 https://t.co/LRN921K3x7</td>\n",
              "      <td>Love is composed of a single soul inhabiting t...</td>\n",
              "      <td>1.096114e+18</td>\n",
              "      <td>Instagram</td>\n",
              "      <td>NaN</td>\n",
              "      <td>NaN</td>\n",
              "    </tr>\n",
              "    <tr>\n",
              "      <th>1</th>\n",
              "      <td>3.0</td>\n",
              "      <td>TWITTER</td>\n",
              "      <td>http://www.twitter.com</td>\n",
              "      <td>http://twitter.com/isans_business/statuses/109...</td>\n",
              "      <td>2019-02-14</td>\n",
              "      <td>13:25:53</td>\n",
              "      <td>14 Feb 2019 23:55:53</td>\n",
              "      <td>NaN</td>\n",
              "      <td>isans_business</td>\n",
              "      <td>ISANS Business</td>\n",
              "      <td>http://twitter.com/isans_business</td>\n",
              "      <td>6.0</td>\n",
              "      <td>1338.0</td>\n",
              "      <td>812.0</td>\n",
              "      <td>NaN</td>\n",
              "      <td>NaN</td>\n",
              "      <td>English</td>\n",
              "      <td>Canada</td>\n",
              "      <td>ns</td>\n",
              "      <td>NaN</td>\n",
              "      <td>Nova Scotia</td>\n",
              "      <td>POSITIVE</td>\n",
              "      <td>business;finance;</td>\n",
              "      <td>Location.airport;Time.month;Location.country;O...</td>\n",
              "      <td>Husein Sastranegara International Airport;Febr...</td>\n",
              "      <td>NaN</td>\n",
              "      <td>NaN</td>\n",
              "      <td>NaN</td>\n",
              "      <td>On Thursday, February 21, Join Jeremy Scott, I...</td>\n",
              "      <td>On Thursday, February 21, Join Jeremy Scott, I...</td>\n",
              "      <td>For more info or to register: https://t.co/J8a...</td>\n",
              "      <td>ISANS Business &amp; Workforce Integration - suppo...</td>\n",
              "      <td>1.096113e+18</td>\n",
              "      <td>Hootsuite Inc.</td>\n",
              "      <td>NaN</td>\n",
              "      <td>NaN</td>\n",
              "    </tr>\n",
              "    <tr>\n",
              "      <th>2</th>\n",
              "      <td>4.0</td>\n",
              "      <td>TWITTER</td>\n",
              "      <td>http://www.twitter.com</td>\n",
              "      <td>http://twitter.com/Stronginside81/statuses/109...</td>\n",
              "      <td>2019-02-14</td>\n",
              "      <td>13:25:19</td>\n",
              "      <td>14 Feb 2019 23:55:19</td>\n",
              "      <td>NaN</td>\n",
              "      <td>Stronginside81</td>\n",
              "      <td>Kailash Kotwani</td>\n",
              "      <td>http://twitter.com/stronginside81</td>\n",
              "      <td>5.0</td>\n",
              "      <td>279.0</td>\n",
              "      <td>132.0</td>\n",
              "      <td>NaN</td>\n",
              "      <td>MALE</td>\n",
              "      <td>English</td>\n",
              "      <td>India</td>\n",
              "      <td>NaN</td>\n",
              "      <td>NaN</td>\n",
              "      <td>India</td>\n",
              "      <td>POSITIVE</td>\n",
              "      <td>politics;health;law;</td>\n",
              "      <td>Person.politician;Person.world_leader;Person.p...</td>\n",
              "      <td>Jagat Prakash Nadda;Leader of the Government i...</td>\n",
              "      <td>NaN</td>\n",
              "      <td>NaN</td>\n",
              "      <td>NaN</td>\n",
              "      <td>RT @thal_care: @GST_Council @arunjaitley @PMOI...</td>\n",
              "      <td>RT @thal_care: @GST_Council @arunjaitley @PMOI...</td>\n",
              "      <td>NaN</td>\n",
              "      <td>A Proud Indian, A Businessman ( Mfg Industrial...</td>\n",
              "      <td>1.096113e+18</td>\n",
              "      <td>Twitter for Android</td>\n",
              "      <td>NaN</td>\n",
              "      <td>NaN</td>\n",
              "    </tr>\n",
              "    <tr>\n",
              "      <th>3</th>\n",
              "      <td>5.0</td>\n",
              "      <td>TWITTER</td>\n",
              "      <td>http://www.twitter.com</td>\n",
              "      <td>http://twitter.com/GST_App/statuses/1096113098...</td>\n",
              "      <td>2019-02-14</td>\n",
              "      <td>13:25:02</td>\n",
              "      <td>14 Feb 2019 23:55:02</td>\n",
              "      <td>NaN</td>\n",
              "      <td>GST_App</td>\n",
              "      <td>GST App</td>\n",
              "      <td>http://twitter.com/gst_app</td>\n",
              "      <td>3.0</td>\n",
              "      <td>18.0</td>\n",
              "      <td>1.0</td>\n",
              "      <td>NaN</td>\n",
              "      <td>NaN</td>\n",
              "      <td>English</td>\n",
              "      <td>India</td>\n",
              "      <td>NaN</td>\n",
              "      <td>NaN</td>\n",
              "      <td>India</td>\n",
              "      <td>NEUTRAL</td>\n",
              "      <td>technology;</td>\n",
              "      <td>Technology.software;Technology.software;Techno...</td>\n",
              "      <td>Application software;Info (Unix);gStreamer;Sou...</td>\n",
              "      <td>NaN</td>\n",
              "      <td>NaN</td>\n",
              "      <td>NaN</td>\n",
              "      <td>#GST Info App: https://t.co/7MkIaMHzzy HS code...</td>\n",
              "      <td>#GST Info App: https://t.co/7MkIaMHzzy HS code...</td>\n",
              "      <td>#GST Info App: https://t.co/7MkIaMHzzy HS code...</td>\n",
              "      <td>GST HS Code search App (v1).   (v2 - Browse al...</td>\n",
              "      <td>1.096113e+18</td>\n",
              "      <td>Auto Tweet GST Hash codes</td>\n",
              "      <td>NaN</td>\n",
              "      <td>NaN</td>\n",
              "    </tr>\n",
              "    <tr>\n",
              "      <th>4</th>\n",
              "      <td>6.0</td>\n",
              "      <td>TWITTER</td>\n",
              "      <td>http://www.twitter.com</td>\n",
              "      <td>http://twitter.com/GangaRa51485130/statuses/10...</td>\n",
              "      <td>2019-02-14</td>\n",
              "      <td>13:22:28</td>\n",
              "      <td>14 Feb 2019 23:52:28</td>\n",
              "      <td>NaN</td>\n",
              "      <td>GangaRa51485130</td>\n",
              "      <td>GangaRaju</td>\n",
              "      <td>http://twitter.com/gangara51485130</td>\n",
              "      <td>0.0</td>\n",
              "      <td>9.0</td>\n",
              "      <td>42.0</td>\n",
              "      <td>NaN</td>\n",
              "      <td>NaN</td>\n",
              "      <td>English</td>\n",
              "      <td>NaN</td>\n",
              "      <td>NaN</td>\n",
              "      <td>NaN</td>\n",
              "      <td>Narendra nagar colony Ameenpur</td>\n",
              "      <td>NEGATIVE</td>\n",
              "      <td>politics;food;</td>\n",
              "      <td>Product.food;Person.world_leader;Person.politi...</td>\n",
              "      <td>Chef;Narendra Modi;Cake;</td>\n",
              "      <td>NaN</td>\n",
              "      <td>NaN</td>\n",
              "      <td>NaN</td>\n",
              "      <td>@narendramodi @PMOIndia Hi Sir Bought one 250g...</td>\n",
              "      <td>@narendramodi @PMOIndia Hi Sir Bought one 250g...</td>\n",
              "      <td>@narendramodi @PMOIndia Hi Sir Bought one 250g...</td>\n",
              "      <td>NaN</td>\n",
              "      <td>1.096112e+18</td>\n",
              "      <td>Twitter for Android</td>\n",
              "      <td>NaN</td>\n",
              "      <td>NaN</td>\n",
              "    </tr>\n",
              "  </tbody>\n",
              "</table>\n",
              "</div>"
            ],
            "text/plain": [
              "    No   Source                    Host  ...                Post Source  OK OK1\n",
              "0  2.0  TWITTER  http://www.twitter.com  ...                  Instagram NaN NaN\n",
              "1  3.0  TWITTER  http://www.twitter.com  ...             Hootsuite Inc. NaN NaN\n",
              "2  4.0  TWITTER  http://www.twitter.com  ...        Twitter for Android NaN NaN\n",
              "3  5.0  TWITTER  http://www.twitter.com  ...  Auto Tweet GST Hash codes NaN NaN\n",
              "4  6.0  TWITTER  http://www.twitter.com  ...        Twitter for Android NaN NaN\n",
              "\n",
              "[5 rows x 36 columns]"
            ]
          },
          "metadata": {
            "tags": []
          },
          "execution_count": 5
        }
      ]
    },
    {
      "cell_type": "code",
      "metadata": {
        "id": "Y4LeSaJowsGK"
      },
      "source": [
        "import pandas as pd\n",
        "data = pd.read_csv('/content/drive/My Drive/master_twitter_01.csv', error_bad_lines=False)"
      ],
      "execution_count": 48,
      "outputs": []
    },
    {
      "cell_type": "code",
      "metadata": {
        "id": "dZT-dtP5zJHm"
      },
      "source": [
        "data= data[:20000]\n",
        "data_text = data[['Contents']]\n",
        "data_text['index'] = data_text.index\n",
        "documents = data_text"
      ],
      "execution_count": 49,
      "outputs": []
    },
    {
      "cell_type": "code",
      "metadata": {
        "colab": {
          "base_uri": "https://localhost:8080/"
        },
        "id": "diRUCfKZy-Ei",
        "outputId": "c856d5bc-e02f-4a01-8598-81d4ceb99b97"
      },
      "source": [
        "data.shape"
      ],
      "execution_count": 50,
      "outputs": [
        {
          "output_type": "execute_result",
          "data": {
            "text/plain": [
              "(20000, 36)"
            ]
          },
          "metadata": {
            "tags": []
          },
          "execution_count": 50
        }
      ]
    },
    {
      "cell_type": "code",
      "metadata": {
        "colab": {
          "base_uri": "https://localhost:8080/",
          "height": 547
        },
        "id": "GZx14nkxzR_-",
        "outputId": "11e931c9-3cae-437e-cc56-b8cb02be972e"
      },
      "source": [
        "data.head()"
      ],
      "execution_count": 51,
      "outputs": [
        {
          "output_type": "execute_result",
          "data": {
            "text/html": [
              "<div>\n",
              "<style scoped>\n",
              "    .dataframe tbody tr th:only-of-type {\n",
              "        vertical-align: middle;\n",
              "    }\n",
              "\n",
              "    .dataframe tbody tr th {\n",
              "        vertical-align: top;\n",
              "    }\n",
              "\n",
              "    .dataframe thead th {\n",
              "        text-align: right;\n",
              "    }\n",
              "</style>\n",
              "<table border=\"1\" class=\"dataframe\">\n",
              "  <thead>\n",
              "    <tr style=\"text-align: right;\">\n",
              "      <th></th>\n",
              "      <th>No</th>\n",
              "      <th>Source</th>\n",
              "      <th>Host</th>\n",
              "      <th>Link</th>\n",
              "      <th>Date(ET)</th>\n",
              "      <th>Time(ET)</th>\n",
              "      <th>LocalTime</th>\n",
              "      <th>Category</th>\n",
              "      <th>Author ID</th>\n",
              "      <th>Author Name</th>\n",
              "      <th>Author URL</th>\n",
              "      <th>Authority</th>\n",
              "      <th>Followers</th>\n",
              "      <th>Following</th>\n",
              "      <th>Age</th>\n",
              "      <th>Gender</th>\n",
              "      <th>Language</th>\n",
              "      <th>Country</th>\n",
              "      <th>Province/State</th>\n",
              "      <th>City</th>\n",
              "      <th>Location</th>\n",
              "      <th>Sentiment</th>\n",
              "      <th>Themes</th>\n",
              "      <th>Classifications</th>\n",
              "      <th>Entities</th>\n",
              "      <th>Alexa Rank</th>\n",
              "      <th>Alexa Reach</th>\n",
              "      <th>Title</th>\n",
              "      <th>Snippet</th>\n",
              "      <th>Contents</th>\n",
              "      <th>Summary</th>\n",
              "      <th>Bio</th>\n",
              "      <th>Unique ID</th>\n",
              "      <th>Post Source</th>\n",
              "      <th>OK</th>\n",
              "      <th>OK1</th>\n",
              "    </tr>\n",
              "  </thead>\n",
              "  <tbody>\n",
              "    <tr>\n",
              "      <th>0</th>\n",
              "      <td>2.0</td>\n",
              "      <td>TWITTER</td>\n",
              "      <td>http://www.twitter.com</td>\n",
              "      <td>http://twitter.com/GNSERVICESFZD/statuses/1096...</td>\n",
              "      <td>2019-02-14</td>\n",
              "      <td>13:28:54</td>\n",
              "      <td>14 Feb 2019 23:58:54</td>\n",
              "      <td>NaN</td>\n",
              "      <td>GNSERVICESFZD</td>\n",
              "      <td>Gaurav Yadav</td>\n",
              "      <td>http://twitter.com/gnservicesfzd</td>\n",
              "      <td>1.0</td>\n",
              "      <td>3.0</td>\n",
              "      <td>83.0</td>\n",
              "      <td>NaN</td>\n",
              "      <td>MALE</td>\n",
              "      <td>English</td>\n",
              "      <td>India</td>\n",
              "      <td>delhi</td>\n",
              "      <td>new delhi</td>\n",
              "      <td>New Delhi, India</td>\n",
              "      <td>NEUTRAL</td>\n",
              "      <td>politics;</td>\n",
              "      <td>Person.government_employee;</td>\n",
              "      <td>United States Secretary of Health and Human Se...</td>\n",
              "      <td>NaN</td>\n",
              "      <td>NaN</td>\n",
              "      <td>NaN</td>\n",
              "      <td>GST SERVICES @â¹1000 https://t.co/LRN921K3x7</td>\n",
              "      <td>GST SERVICES @â¹1000 https://t.co/LRN921K3x7</td>\n",
              "      <td>GST SERVICES @â¹1000 https://t.co/LRN921K3x7</td>\n",
              "      <td>Love is composed of a single soul inhabiting t...</td>\n",
              "      <td>1.096114e+18</td>\n",
              "      <td>Instagram</td>\n",
              "      <td>NaN</td>\n",
              "      <td>NaN</td>\n",
              "    </tr>\n",
              "    <tr>\n",
              "      <th>1</th>\n",
              "      <td>3.0</td>\n",
              "      <td>TWITTER</td>\n",
              "      <td>http://www.twitter.com</td>\n",
              "      <td>http://twitter.com/isans_business/statuses/109...</td>\n",
              "      <td>2019-02-14</td>\n",
              "      <td>13:25:53</td>\n",
              "      <td>14 Feb 2019 23:55:53</td>\n",
              "      <td>NaN</td>\n",
              "      <td>isans_business</td>\n",
              "      <td>ISANS Business</td>\n",
              "      <td>http://twitter.com/isans_business</td>\n",
              "      <td>6.0</td>\n",
              "      <td>1338.0</td>\n",
              "      <td>812.0</td>\n",
              "      <td>NaN</td>\n",
              "      <td>NaN</td>\n",
              "      <td>English</td>\n",
              "      <td>Canada</td>\n",
              "      <td>ns</td>\n",
              "      <td>NaN</td>\n",
              "      <td>Nova Scotia</td>\n",
              "      <td>POSITIVE</td>\n",
              "      <td>business;finance;</td>\n",
              "      <td>Location.airport;Time.month;Location.country;O...</td>\n",
              "      <td>Husein Sastranegara International Airport;Febr...</td>\n",
              "      <td>NaN</td>\n",
              "      <td>NaN</td>\n",
              "      <td>NaN</td>\n",
              "      <td>On Thursday, February 21, Join Jeremy Scott, I...</td>\n",
              "      <td>On Thursday, February 21, Join Jeremy Scott, I...</td>\n",
              "      <td>For more info or to register: https://t.co/J8a...</td>\n",
              "      <td>ISANS Business &amp; Workforce Integration - suppo...</td>\n",
              "      <td>1.096113e+18</td>\n",
              "      <td>Hootsuite Inc.</td>\n",
              "      <td>NaN</td>\n",
              "      <td>NaN</td>\n",
              "    </tr>\n",
              "    <tr>\n",
              "      <th>2</th>\n",
              "      <td>4.0</td>\n",
              "      <td>TWITTER</td>\n",
              "      <td>http://www.twitter.com</td>\n",
              "      <td>http://twitter.com/Stronginside81/statuses/109...</td>\n",
              "      <td>2019-02-14</td>\n",
              "      <td>13:25:19</td>\n",
              "      <td>14 Feb 2019 23:55:19</td>\n",
              "      <td>NaN</td>\n",
              "      <td>Stronginside81</td>\n",
              "      <td>Kailash Kotwani</td>\n",
              "      <td>http://twitter.com/stronginside81</td>\n",
              "      <td>5.0</td>\n",
              "      <td>279.0</td>\n",
              "      <td>132.0</td>\n",
              "      <td>NaN</td>\n",
              "      <td>MALE</td>\n",
              "      <td>English</td>\n",
              "      <td>India</td>\n",
              "      <td>NaN</td>\n",
              "      <td>NaN</td>\n",
              "      <td>India</td>\n",
              "      <td>POSITIVE</td>\n",
              "      <td>politics;health;law;</td>\n",
              "      <td>Person.politician;Person.world_leader;Person.p...</td>\n",
              "      <td>Jagat Prakash Nadda;Leader of the Government i...</td>\n",
              "      <td>NaN</td>\n",
              "      <td>NaN</td>\n",
              "      <td>NaN</td>\n",
              "      <td>RT @thal_care: @GST_Council @arunjaitley @PMOI...</td>\n",
              "      <td>RT @thal_care: @GST_Council @arunjaitley @PMOI...</td>\n",
              "      <td>NaN</td>\n",
              "      <td>A Proud Indian, A Businessman ( Mfg Industrial...</td>\n",
              "      <td>1.096113e+18</td>\n",
              "      <td>Twitter for Android</td>\n",
              "      <td>NaN</td>\n",
              "      <td>NaN</td>\n",
              "    </tr>\n",
              "    <tr>\n",
              "      <th>3</th>\n",
              "      <td>5.0</td>\n",
              "      <td>TWITTER</td>\n",
              "      <td>http://www.twitter.com</td>\n",
              "      <td>http://twitter.com/GST_App/statuses/1096113098...</td>\n",
              "      <td>2019-02-14</td>\n",
              "      <td>13:25:02</td>\n",
              "      <td>14 Feb 2019 23:55:02</td>\n",
              "      <td>NaN</td>\n",
              "      <td>GST_App</td>\n",
              "      <td>GST App</td>\n",
              "      <td>http://twitter.com/gst_app</td>\n",
              "      <td>3.0</td>\n",
              "      <td>18.0</td>\n",
              "      <td>1.0</td>\n",
              "      <td>NaN</td>\n",
              "      <td>NaN</td>\n",
              "      <td>English</td>\n",
              "      <td>India</td>\n",
              "      <td>NaN</td>\n",
              "      <td>NaN</td>\n",
              "      <td>India</td>\n",
              "      <td>NEUTRAL</td>\n",
              "      <td>technology;</td>\n",
              "      <td>Technology.software;Technology.software;Techno...</td>\n",
              "      <td>Application software;Info (Unix);gStreamer;Sou...</td>\n",
              "      <td>NaN</td>\n",
              "      <td>NaN</td>\n",
              "      <td>NaN</td>\n",
              "      <td>#GST Info App: https://t.co/7MkIaMHzzy HS code...</td>\n",
              "      <td>#GST Info App: https://t.co/7MkIaMHzzy HS code...</td>\n",
              "      <td>#GST Info App: https://t.co/7MkIaMHzzy HS code...</td>\n",
              "      <td>GST HS Code search App (v1).   (v2 - Browse al...</td>\n",
              "      <td>1.096113e+18</td>\n",
              "      <td>Auto Tweet GST Hash codes</td>\n",
              "      <td>NaN</td>\n",
              "      <td>NaN</td>\n",
              "    </tr>\n",
              "    <tr>\n",
              "      <th>4</th>\n",
              "      <td>6.0</td>\n",
              "      <td>TWITTER</td>\n",
              "      <td>http://www.twitter.com</td>\n",
              "      <td>http://twitter.com/GangaRa51485130/statuses/10...</td>\n",
              "      <td>2019-02-14</td>\n",
              "      <td>13:22:28</td>\n",
              "      <td>14 Feb 2019 23:52:28</td>\n",
              "      <td>NaN</td>\n",
              "      <td>GangaRa51485130</td>\n",
              "      <td>GangaRaju</td>\n",
              "      <td>http://twitter.com/gangara51485130</td>\n",
              "      <td>0.0</td>\n",
              "      <td>9.0</td>\n",
              "      <td>42.0</td>\n",
              "      <td>NaN</td>\n",
              "      <td>NaN</td>\n",
              "      <td>English</td>\n",
              "      <td>NaN</td>\n",
              "      <td>NaN</td>\n",
              "      <td>NaN</td>\n",
              "      <td>Narendra nagar colony Ameenpur</td>\n",
              "      <td>NEGATIVE</td>\n",
              "      <td>politics;food;</td>\n",
              "      <td>Product.food;Person.world_leader;Person.politi...</td>\n",
              "      <td>Chef;Narendra Modi;Cake;</td>\n",
              "      <td>NaN</td>\n",
              "      <td>NaN</td>\n",
              "      <td>NaN</td>\n",
              "      <td>@narendramodi @PMOIndia Hi Sir Bought one 250g...</td>\n",
              "      <td>@narendramodi @PMOIndia Hi Sir Bought one 250g...</td>\n",
              "      <td>@narendramodi @PMOIndia Hi Sir Bought one 250g...</td>\n",
              "      <td>NaN</td>\n",
              "      <td>1.096112e+18</td>\n",
              "      <td>Twitter for Android</td>\n",
              "      <td>NaN</td>\n",
              "      <td>NaN</td>\n",
              "    </tr>\n",
              "  </tbody>\n",
              "</table>\n",
              "</div>"
            ],
            "text/plain": [
              "    No   Source                    Host  ...                Post Source  OK OK1\n",
              "0  2.0  TWITTER  http://www.twitter.com  ...                  Instagram NaN NaN\n",
              "1  3.0  TWITTER  http://www.twitter.com  ...             Hootsuite Inc. NaN NaN\n",
              "2  4.0  TWITTER  http://www.twitter.com  ...        Twitter for Android NaN NaN\n",
              "3  5.0  TWITTER  http://www.twitter.com  ...  Auto Tweet GST Hash codes NaN NaN\n",
              "4  6.0  TWITTER  http://www.twitter.com  ...        Twitter for Android NaN NaN\n",
              "\n",
              "[5 rows x 36 columns]"
            ]
          },
          "metadata": {
            "tags": []
          },
          "execution_count": 51
        }
      ]
    },
    {
      "cell_type": "code",
      "metadata": {
        "colab": {
          "base_uri": "https://localhost:8080/"
        },
        "id": "1H_nj22RxmyF",
        "outputId": "4d1eab86-0aef-4045-8c70-6764b21100c1"
      },
      "source": [
        "len(documents)\n"
      ],
      "execution_count": 52,
      "outputs": [
        {
          "output_type": "execute_result",
          "data": {
            "text/plain": [
              "20000"
            ]
          },
          "metadata": {
            "tags": []
          },
          "execution_count": 52
        }
      ]
    },
    {
      "cell_type": "code",
      "metadata": {
        "colab": {
          "base_uri": "https://localhost:8080/",
          "height": 204
        },
        "id": "cCFrh8Ohxpn7",
        "outputId": "30e97bf5-b5b5-4982-eded-f689079259a1"
      },
      "source": [
        "documents[:5]\n"
      ],
      "execution_count": 53,
      "outputs": [
        {
          "output_type": "execute_result",
          "data": {
            "text/html": [
              "<div>\n",
              "<style scoped>\n",
              "    .dataframe tbody tr th:only-of-type {\n",
              "        vertical-align: middle;\n",
              "    }\n",
              "\n",
              "    .dataframe tbody tr th {\n",
              "        vertical-align: top;\n",
              "    }\n",
              "\n",
              "    .dataframe thead th {\n",
              "        text-align: right;\n",
              "    }\n",
              "</style>\n",
              "<table border=\"1\" class=\"dataframe\">\n",
              "  <thead>\n",
              "    <tr style=\"text-align: right;\">\n",
              "      <th></th>\n",
              "      <th>Contents</th>\n",
              "      <th>index</th>\n",
              "    </tr>\n",
              "  </thead>\n",
              "  <tbody>\n",
              "    <tr>\n",
              "      <th>0</th>\n",
              "      <td>GST SERVICES @â¹1000 https://t.co/LRN921K3x7</td>\n",
              "      <td>0</td>\n",
              "    </tr>\n",
              "    <tr>\n",
              "      <th>1</th>\n",
              "      <td>On Thursday, February 21, Join Jeremy Scott, I...</td>\n",
              "      <td>1</td>\n",
              "    </tr>\n",
              "    <tr>\n",
              "      <th>2</th>\n",
              "      <td>RT @thal_care: @GST_Council @arunjaitley @PMOI...</td>\n",
              "      <td>2</td>\n",
              "    </tr>\n",
              "    <tr>\n",
              "      <th>3</th>\n",
              "      <td>#GST Info App: https://t.co/7MkIaMHzzy HS code...</td>\n",
              "      <td>3</td>\n",
              "    </tr>\n",
              "    <tr>\n",
              "      <th>4</th>\n",
              "      <td>@narendramodi @PMOIndia Hi Sir Bought one 250g...</td>\n",
              "      <td>4</td>\n",
              "    </tr>\n",
              "  </tbody>\n",
              "</table>\n",
              "</div>"
            ],
            "text/plain": [
              "                                            Contents  index\n",
              "0      GST SERVICES @â¹1000 https://t.co/LRN921K3x7      0\n",
              "1  On Thursday, February 21, Join Jeremy Scott, I...      1\n",
              "2  RT @thal_care: @GST_Council @arunjaitley @PMOI...      2\n",
              "3  #GST Info App: https://t.co/7MkIaMHzzy HS code...      3\n",
              "4  @narendramodi @PMOIndia Hi Sir Bought one 250g...      4"
            ]
          },
          "metadata": {
            "tags": []
          },
          "execution_count": 53
        }
      ]
    },
    {
      "cell_type": "code",
      "metadata": {
        "id": "ohcuk9_zxrek"
      },
      "source": [
        "import gensim\n",
        "from gensim.utils import simple_preprocess\n",
        "from gensim.parsing.preprocessing import STOPWORDS\n",
        "from nltk.stem import WordNetLemmatizer, SnowballStemmer\n",
        "from nltk.stem.porter import *\n",
        "import numpy as np\n",
        "np.random.seed(2018)"
      ],
      "execution_count": 54,
      "outputs": []
    },
    {
      "cell_type": "code",
      "metadata": {
        "colab": {
          "base_uri": "https://localhost:8080/"
        },
        "id": "p2b5tgcpxvIs",
        "outputId": "c20d4168-0726-496e-d89a-00798bc1c6ff"
      },
      "source": [
        "import nltk\n",
        "nltk.download('wordnet')"
      ],
      "execution_count": 55,
      "outputs": [
        {
          "output_type": "stream",
          "text": [
            "[nltk_data] Downloading package wordnet to /root/nltk_data...\n",
            "[nltk_data]   Package wordnet is already up-to-date!\n"
          ],
          "name": "stdout"
        },
        {
          "output_type": "execute_result",
          "data": {
            "text/plain": [
              "True"
            ]
          },
          "metadata": {
            "tags": []
          },
          "execution_count": 55
        }
      ]
    },
    {
      "cell_type": "code",
      "metadata": {
        "id": "_jCixs3m-PJn"
      },
      "source": [
        "from nltk.tokenize import TweetTokenizer\n"
      ],
      "execution_count": 77,
      "outputs": []
    },
    {
      "cell_type": "markdown",
      "metadata": {
        "id": "wDZm4ySl_Al6"
      },
      "source": [
        "# Preprocessing"
      ]
    },
    {
      "cell_type": "code",
      "metadata": {
        "id": "XbltH0CRxxfk"
      },
      "source": [
        "def lemmatize_stemming(text):\n",
        "    return stemmer.stem(WordNetLemmatizer().lemmatize(text, pos='v'))\n",
        "\n",
        "def preprocess(text):\n",
        "    result = []\n",
        "    for token in gensim.utils.simple_preprocess(text):\n",
        "        if token not in gensim.parsing.preprocessing.STOPWORDS and len(token) > 3:\n",
        "            result.append(lemmatize_stemming(token))\n",
        "    return result"
      ],
      "execution_count": 56,
      "outputs": []
    },
    {
      "cell_type": "code",
      "metadata": {
        "id": "kLPZoNKkyHcY"
      },
      "source": [
        "stemmer = SnowballStemmer('english')\n"
      ],
      "execution_count": 57,
      "outputs": []
    },
    {
      "cell_type": "code",
      "metadata": {
        "colab": {
          "base_uri": "https://localhost:8080/"
        },
        "id": "KefucinWyAsG",
        "outputId": "d2c9bde8-45da-4396-e09e-ae5b4ccbf5f5"
      },
      "source": [
        "doc_sample = documents[documents['index'] == 1310].values[0][0]\n",
        "\n",
        "print('original document: ')\n",
        "words = []\n",
        "for word in doc_sample.split(' '):\n",
        "    words.append(word)\n",
        "print(words)\n",
        "print('\\n\\n tokenized and lemmatized document: ')\n",
        "print(preprocess(doc_sample))"
      ],
      "execution_count": 58,
      "outputs": [
        {
          "output_type": "stream",
          "text": [
            "original document: \n",
            "['QT', '@ThePrintIndia:', 'RT', '@Anurag_RC:', 'à¤®à¤¾à¤\\x9c', 'à¤®à¥\\x8dà¤¹à¤£à¤\\x9cà¥\\x87', 'à¤\\x95à¤¾à¤¯', 'à¤¹à¥\\x87', 'à¤¸à¤®à¤\\x9cà¥\\x82à¤¨', 'à¤\\x98à¥\\x8dà¤¯à¤¾à¤¯à¤\\x9aà¤\\x82', 'à¤\\x85à¤¸à¥\\x87à¤²', 'à¤¤à¤°', 'à¤¹à¥\\x80', 'à¤®à¥\\x81à¤²à¤¾à¤\\x96à¤¤', 'à¤¬à¤\\x98à¤¾.', 'à¤°à¤¾à¤«à¥\\x87à¤²', 'à¤\\x86à¤£à¤¿', 'GST', 'à¤µà¤°', 'à¤¬à¥\\x8bà¤²à¤¾à¤¯à¤²à¤¾', 'à¤¤à¤¯à¤¾à¤°', 'à¤¹à¥\\x8bà¤¤à¤¾', 'à¤¹à¤¾', 'à¤\\x9cà¤¾à¤®à¥\\x80à¤¨à¤µà¥\\x80à¤°', 'à¤\\x86à¤£à¤¿', 'à¤¤à¥\\x8dà¤¯à¤¾à¤\\x9aà¥\\x8dà¤¯à¤¾', 'à¤\\x95à¥\\x87à¤¸à¤\\x9aà¤\\x82', 'à¤µà¤¿â\\x80¦', ';', 'In', 'an', 'explosive', 'interview', 'with', '@jomalhotra', 'of', 'ThePrint,', '@PChidambaram_IN', 'slams', 'Modi', 'govt', 'but', 'shuts', 'down', \"'irrelevant'\", 'questions', 'on', 'his', 'case.', 'https://t.co/VMSqDIsn0e']\n",
            "\n",
            "\n",
            " tokenized and lemmatized document: \n",
            "['theprintindia', 'anurag_rc', 'explos', 'interview', 'jomalhotra', 'theprint', 'pchidambaram_in', 'slam', 'modi', 'govt', 'shut', 'irrelev', 'question', 'case', 'https', 'vmsqdisn']\n"
          ],
          "name": "stdout"
        }
      ]
    },
    {
      "cell_type": "markdown",
      "metadata": {
        "id": "UNWl7rFo_NVi"
      },
      "source": [
        "#BoW"
      ]
    },
    {
      "cell_type": "code",
      "metadata": {
        "id": "TMftj_K-yC8W"
      },
      "source": [
        "processed_docs = documents['Contents'].map(preprocess)"
      ],
      "execution_count": 59,
      "outputs": []
    },
    {
      "cell_type": "code",
      "metadata": {
        "colab": {
          "base_uri": "https://localhost:8080/"
        },
        "id": "MSEMGReyyOgn",
        "outputId": "d58ac6b9-068b-4011-de67-8c6d112751fa"
      },
      "source": [
        "processed_docs[:10]\n"
      ],
      "execution_count": 60,
      "outputs": [
        {
          "output_type": "execute_result",
          "data": {
            "text/plain": [
              "0                                      [servic, https]\n",
              "1    [thursday, februari, join, jeremi, scott, indi...\n",
              "2    [thal_car, gst_council, arunjaitley, pmoindia,...\n",
              "3    [info, https, mkiamhzzi, code, part, metal, ro...\n",
              "4    [narendramodi, pmoindia, buy, cake, form, chef...\n",
              "5    [recent, northern, delay, departur, stalybridg...\n",
              "6    [india, tamil, nadu, state, small, scale, manu...\n",
              "7    [rahul, say, modiâ, gabbar, singh, kill, gujar...\n",
              "8    [ramapriya, bharatbacksmodi, implement, creat,...\n",
              "9    [india, tamil, nadu, state, small, scale, manu...\n",
              "Name: Contents, dtype: object"
            ]
          },
          "metadata": {
            "tags": []
          },
          "execution_count": 60
        }
      ]
    },
    {
      "cell_type": "code",
      "metadata": {
        "id": "HlEsCRh7yY__"
      },
      "source": [
        "dictionary = gensim.corpora.Dictionary(processed_docs)"
      ],
      "execution_count": 61,
      "outputs": []
    },
    {
      "cell_type": "code",
      "metadata": {
        "colab": {
          "base_uri": "https://localhost:8080/"
        },
        "id": "4Hcn7hNy_HHK",
        "outputId": "b0fd38f3-81be-4665-850c-fe6847c202d5"
      },
      "source": [
        "dictionary"
      ],
      "execution_count": 78,
      "outputs": [
        {
          "output_type": "execute_result",
          "data": {
            "text/plain": [
              "<gensim.corpora.dictionary.Dictionary at 0x7f2f96940860>"
            ]
          },
          "metadata": {
            "tags": []
          },
          "execution_count": 78
        }
      ]
    },
    {
      "cell_type": "code",
      "metadata": {
        "colab": {
          "base_uri": "https://localhost:8080/"
        },
        "id": "EOFyUvk4yejR",
        "outputId": "fefa5c8f-a40f-4f2f-e8f3-42a2e134f6ec"
      },
      "source": [
        "count = 0\n",
        "for k, v in dictionary.iteritems():\n",
        "    print(k, v)\n",
        "    count += 1\n",
        "    if count > 10:\n",
        "        break\n"
      ],
      "execution_count": 62,
      "outputs": [
        {
          "output_type": "stream",
          "text": [
            "0 https\n",
            "1 servic\n",
            "2 add\n",
            "3 ascntlxb\n",
            "4 canada\n",
            "5 canadaâ\n",
            "6 consumpt\n",
            "7 februari\n",
            "8 free\n",
            "9 indirect\n",
            "10 info\n"
          ],
          "name": "stdout"
        }
      ]
    },
    {
      "cell_type": "markdown",
      "metadata": {
        "id": "xQI5db08_XAz"
      },
      "source": [
        "Filter out tokens that appear in\n",
        "less than 15 documents (absolute number) or\n",
        "more than 0.5 documents (fraction of total corpus size, not absolute number).\n",
        "after the above two steps, keep only the first 100000 most frequent tokens."
      ]
    },
    {
      "cell_type": "code",
      "metadata": {
        "id": "dAEU6qLgz9fk"
      },
      "source": [
        "dictionary.filter_extremes(no_below=15, no_above=0.5, keep_n=100000)\n"
      ],
      "execution_count": 63,
      "outputs": []
    },
    {
      "cell_type": "code",
      "metadata": {
        "colab": {
          "base_uri": "https://localhost:8080/"
        },
        "id": "XVeiPuNkz_pU",
        "outputId": "cc28523f-fb2b-42e9-c87b-1499ba1fab97"
      },
      "source": [
        "bow_corpus = [dictionary.doc2bow(doc) for doc in processed_docs]\n",
        "bow_corpus[4310]"
      ],
      "execution_count": 64,
      "outputs": [
        {
          "output_type": "execute_result",
          "data": {
            "text/plain": [
              "[(14, 1),\n",
              " (37, 1),\n",
              " (60, 1),\n",
              " (65, 2),\n",
              " (93, 1),\n",
              " (210, 1),\n",
              " (248, 1),\n",
              " (259, 1),\n",
              " (263, 1),\n",
              " (280, 1),\n",
              " (283, 1),\n",
              " (303, 1),\n",
              " (494, 1),\n",
              " (502, 1),\n",
              " (566, 1),\n",
              " (582, 1),\n",
              " (778, 1),\n",
              " (783, 1),\n",
              " (924, 1),\n",
              " (1176, 1),\n",
              " (1177, 1),\n",
              " (1178, 1),\n",
              " (1179, 1)]"
            ]
          },
          "metadata": {
            "tags": []
          },
          "execution_count": 64
        }
      ]
    },
    {
      "cell_type": "code",
      "metadata": {
        "colab": {
          "base_uri": "https://localhost:8080/"
        },
        "id": "WPASF2jQ0Dxc",
        "outputId": "e2b59085-8c46-40cd-c68c-93e2ec1bf5b7"
      },
      "source": [
        "bow_doc_4310 = bow_corpus[4310]\n",
        "\n",
        "for i in range(len(bow_doc_4310)):\n",
        "    print(\"Word {} (\\\"{}\\\") appears {} time.\".format(bow_doc_4310[i][0], \n",
        "                                                     dictionary[bow_doc_4310[i][0]], \n",
        "                                                     bow_doc_4310[i][1]))"
      ],
      "execution_count": 65,
      "outputs": [
        {
          "output_type": "stream",
          "text": [
            "Word 14 (\"return\") appears 1 time.\n",
            "Word 37 (\"min\") appears 1 time.\n",
            "Word 60 (\"base\") appears 1 time.\n",
            "Word 65 (\"say\") appears 2 time.\n",
            "Word 93 (\"credit\") appears 1 time.\n",
            "Word 210 (\"good\") appears 1 time.\n",
            "Word 248 (\"come\") appears 1 time.\n",
            "Word 259 (\"think\") appears 1 time.\n",
            "Word 263 (\"rat\") appears 1 time.\n",
            "Word 280 (\"portal\") appears 1 time.\n",
            "Word 283 (\"data\") appears 1 time.\n",
            "Word 303 (\"clear\") appears 1 time.\n",
            "Word 494 (\"bank\") appears 1 time.\n",
            "Word 502 (\"loan\") appears 1 time.\n",
            "Word 566 (\"item\") appears 1 time.\n",
            "Word 582 (\"news\") appears 1 time.\n",
            "Word 778 (\"long\") appears 1 time.\n",
            "Word 783 (\"read\") appears 1 time.\n",
            "Word 924 (\"friend\") appears 1 time.\n",
            "Word 1176 (\"morn\") appears 1 time.\n",
            "Word 1177 (\"muglikar_\") appears 1 time.\n",
            "Word 1178 (\"someday\") appears 1 time.\n",
            "Word 1179 (\"worth\") appears 1 time.\n"
          ],
          "name": "stdout"
        }
      ]
    },
    {
      "cell_type": "markdown",
      "metadata": {
        "id": "Rr3kWsoK_g4Y"
      },
      "source": [
        "# tf idf"
      ]
    },
    {
      "cell_type": "code",
      "metadata": {
        "id": "ln1PYRwE0GIn"
      },
      "source": [
        "from gensim import corpora, models\n",
        "\n",
        "tfidf = models.TfidfModel(bow_corpus)"
      ],
      "execution_count": 66,
      "outputs": []
    },
    {
      "cell_type": "code",
      "metadata": {
        "id": "N-nGV8ZZ0JZo"
      },
      "source": [
        "corpus_tfidf = tfidf[bow_corpus]\n"
      ],
      "execution_count": 67,
      "outputs": []
    },
    {
      "cell_type": "code",
      "metadata": {
        "colab": {
          "base_uri": "https://localhost:8080/"
        },
        "id": "2Ubf1C_K0K6Y",
        "outputId": "11c2eb15-7cf9-430a-cdf4-ace0084f959b"
      },
      "source": [
        "from pprint import pprint #for beautifying the output\n",
        "\n",
        "for doc in corpus_tfidf:\n",
        "  pprint(doc)\n",
        "  break"
      ],
      "execution_count": 80,
      "outputs": [
        {
          "output_type": "stream",
          "text": [
            "[(0, 0.278021449852466), (1, 0.9605748661202481)]\n"
          ],
          "name": "stdout"
        }
      ]
    },
    {
      "cell_type": "markdown",
      "metadata": {
        "id": "L4iTKFDg_4Vo"
      },
      "source": [
        "#BoW + LDA"
      ]
    },
    {
      "cell_type": "code",
      "metadata": {
        "id": "3iZkyycA0OXi"
      },
      "source": [
        "lda_model = gensim.models.LdaMulticore(bow_corpus, num_topics=10, id2word=dictionary, passes=2, workers=2)"
      ],
      "execution_count": 69,
      "outputs": []
    },
    {
      "cell_type": "code",
      "metadata": {
        "colab": {
          "base_uri": "https://localhost:8080/"
        },
        "id": "0V9qylqD0QPB",
        "outputId": "189d82ea-4c3f-43ce-dc2d-da424b0710c6"
      },
      "source": [
        "for idx, topic in lda_model.print_topics(-1):\n",
        "  print('Topic: {} \\nWords: {}'.format(idx, topic))"
      ],
      "execution_count": 70,
      "outputs": [
        {
          "output_type": "stream",
          "text": [
            "Topic: 0 \n",
            "Words: 0.040*\"https\" + 0.036*\"indirect\" + 0.030*\"india\" + 0.029*\"tnwelcomesmodi\" + 0.026*\"dmkfail\" + 0.024*\"tax\" + 0.024*\"govt\" + 0.022*\"good\" + 0.022*\"afford\" + 0.018*\"common\"\n",
            "Topic: 1 \n",
            "Words: 0.055*\"https\" + 0.029*\"good\" + 0.027*\"say\" + 0.023*\"info\" + 0.020*\"code\" + 0.020*\"come\" + 0.019*\"rat\" + 0.019*\"mkiamhzzi\" + 0.019*\"bank\" + 0.018*\"news\"\n",
            "Topic: 2 \n",
            "Words: 0.067*\"https\" + 0.024*\"incom\" + 0.024*\"tax\" + 0.014*\"credit\" + 0.013*\"rebat\" + 0.013*\"govern\" + 0.013*\"carbon\" + 0.012*\"benefit\" + 0.012*\"hous\" + 0.012*\"gstr\"\n",
            "Topic: 3 \n",
            "Words: 0.053*\"lakh\" + 0.038*\"small\" + 0.036*\"modi\" + 0.036*\"https\" + 0.029*\"india\" + 0.026*\"govt\" + 0.024*\"exempt\" + 0.023*\"state\" + 0.022*\"limit\" + 0.019*\"food\"\n",
            "Topic: 4 \n",
            "Words: 0.043*\"https\" + 0.022*\"right\" + 0.017*\"increas\" + 0.017*\"carbon\" + 0.016*\"get\" + 0.015*\"incom\" + 0.012*\"peopl\" + 0.012*\"connect\" + 0.012*\"state\" + 0.012*\"nation\"\n",
            "Topic: 5 \n",
            "Words: 0.088*\"incom\" + 0.032*\"tax\" + 0.022*\"decad\" + 0.020*\"fuel\" + 0.019*\"https\" + 0.018*\"month\" + 0.017*\"make\" + 0.016*\"carbon\" + 0.015*\"narendramodi\" + 0.013*\"gst_council\"\n",
            "Topic: 6 \n",
            "Words: 0.054*\"tnwelcomesmodi\" + 0.049*\"dmkfail\" + 0.047*\"indirect\" + 0.033*\"https\" + 0.018*\"economi\" + 0.017*\"natur\" + 0.014*\"properti\" + 0.014*\"state\" + 0.014*\"india\" + 0.013*\"neet\"\n",
            "Topic: 7 \n",
            "Words: 0.041*\"https\" + 0.021*\"servic\" + 0.010*\"pay\" + 0.010*\"destroy\" + 0.009*\"pmoindia\" + 0.009*\"late\" + 0.008*\"price\" + 0.008*\"demonetis\" + 0.008*\"state\" + 0.007*\"like\"\n",
            "Topic: 8 \n",
            "Words: 0.065*\"busi\" + 0.065*\"tax\" + 0.037*\"gobackmodi\" + 0.030*\"tnwelcomesmodi\" + 0.030*\"eas\" + 0.029*\"increas\" + 0.028*\"result\" + 0.028*\"erad\" + 0.027*\"indirect\" + 0.027*\"dmkfail\"\n",
            "Topic: 9 \n",
            "Words: 0.045*\"bring\" + 0.044*\"inflat\" + 0.032*\"leav\" + 0.027*\"govt\" + 0.025*\"modi\" + 0.025*\"money\" + 0.024*\"give\" + 0.024*\"spend\" + 0.023*\"exempt\" + 0.023*\"bharatbacksmodi\"\n"
          ],
          "name": "stdout"
        }
      ]
    },
    {
      "cell_type": "markdown",
      "metadata": {
        "id": "0wPW6unbABHR"
      },
      "source": [
        "#tf idf + LDA"
      ]
    },
    {
      "cell_type": "code",
      "metadata": {
        "id": "g1QcN1480UYR"
      },
      "source": [
        "lda_model_tfidf = gensim.models.LdaMulticore(corpus_tfidf, num_topics=10, id2word=dictionary, passes=2, workers=4)\n"
      ],
      "execution_count": 71,
      "outputs": []
    },
    {
      "cell_type": "code",
      "metadata": {
        "colab": {
          "base_uri": "https://localhost:8080/"
        },
        "id": "XWlw75Bl0iXG",
        "outputId": "cce569cf-e319-4882-beb5-a3c0c5ff1d7c"
      },
      "source": [
        "for idx, topic in lda_model_tfidf.print_topics(-1):\n",
        "  print('Topic: {} Word: {}'.format(idx, topic))"
      ],
      "execution_count": 72,
      "outputs": [
        {
          "output_type": "stream",
          "text": [
            "Topic: 0 Word: 0.023*\"carbon\" + 0.013*\"donâ\" + 0.013*\"right\" + 0.012*\"cathmckenna\" + 0.012*\"scam\" + 0.010*\"https\" + 0.010*\"rebat\" + 0.009*\"year\" + 0.009*\"believ\" + 0.009*\"lumberist\"\n",
            "Topic: 1 Word: 0.013*\"gst_council\" + 0.013*\"good\" + 0.010*\"item\" + 0.010*\"half\" + 0.009*\"group\" + 0.008*\"common\" + 0.008*\"askgst_goi\" + 0.008*\"https\" + 0.008*\"alberta\" + 0.008*\"arunjaitley\"\n",
            "Topic: 2 Word: 0.015*\"earner\" + 0.014*\"groceri\" + 0.014*\"imagin\" + 0.014*\"cole\" + 0.014*\"wooli\" + 0.014*\"buy\" + 0.014*\"beneltham\" + 0.013*\"wake\" + 0.012*\"incom\" + 0.010*\"payment\"\n",
            "Topic: 3 Word: 0.048*\"tnwithamitshah\" + 0.031*\"small\" + 0.027*\"indirect\" + 0.017*\"limit\" + 0.016*\"scale\" + 0.016*\"nadu\" + 0.016*\"businessman\" + 0.016*\"tamil\" + 0.016*\"shri\" + 0.016*\"manufactur\"\n",
            "Topic: 4 Word: 0.018*\"incom\" + 0.013*\"favourit\" + 0.012*\"gobackmodi\" + 0.012*\"retweet\" + 0.011*\"nonrefund\" + 0.011*\"strahl\" + 0.011*\"igstà\" + 0.011*\"https\" + 0.010*\"conserv\" + 0.010*\"taxabl\"\n",
            "Topic: 5 Word: 0.056*\"spend\" + 0.026*\"incom\" + 0.020*\"breath\" + 0.020*\"what\" + 0.020*\"fuel\" + 0.020*\"franktmcveeti\" + 0.020*\"gbiiozjb\" + 0.020*\"death\" + 0.019*\"head\" + 0.019*\"worst\"\n",
            "Topic: 6 Word: 0.021*\"class\" + 0.020*\"middl\" + 0.011*\"contribut\" + 0.009*\"benefit\" + 0.008*\"slab\" + 0.008*\"govt\" + 0.008*\"fall\" + 0.008*\"rebat\" + 0.007*\"https\" + 0.007*\"healthcar\"\n",
            "Topic: 7 Word: 0.034*\"bring\" + 0.034*\"inflat\" + 0.021*\"health\" + 0.021*\"bharatbacksmodi\" + 0.020*\"demonetos\" + 0.020*\"moroev\" + 0.020*\"figur\" + 0.019*\"wala\" + 0.019*\"money\" + 0.019*\"coverag\"\n",
            "Topic: 8 Word: 0.025*\"code\" + 0.025*\"mkiamhzzi\" + 0.025*\"info\" + 0.021*\"brighton\" + 0.021*\"hdti\" + 0.019*\"https\" + 0.012*\"fall\" + 0.012*\"revenu\" + 0.008*\"lakh\" + 0.008*\"slowli\"\n",
            "Topic: 9 Word: 0.097*\"tnwelcomesmodi\" + 0.095*\"dmkfail\" + 0.082*\"indirect\" + 0.050*\"tax\" + 0.036*\"erad\" + 0.036*\"variti\" + 0.034*\"eas\" + 0.033*\"result\" + 0.032*\"increas\" + 0.025*\"busi\"\n"
          ],
          "name": "stdout"
        }
      ]
    },
    {
      "cell_type": "code",
      "metadata": {
        "colab": {
          "base_uri": "https://localhost:8080/"
        },
        "id": "yVNnX-om0zHE",
        "outputId": "e78de8a0-e204-4a8a-b7ae-642d244c3c3f"
      },
      "source": [
        "processed_docs[4310]\n"
      ],
      "execution_count": 73,
      "outputs": [
        {
          "output_type": "execute_result",
          "data": {
            "text/plain": [
              "['muglikar_',\n",
              " 'good',\n",
              " 'morn',\n",
              " 'friend',\n",
              " 'say',\n",
              " 'someday',\n",
              " 'return',\n",
              " 'credit',\n",
              " 'rat',\n",
              " 'read',\n",
              " 'news',\n",
              " 'item',\n",
              " 'say',\n",
              " 'bank',\n",
              " 'clear',\n",
              " 'worth',\n",
              " 'loan',\n",
              " 'min',\n",
              " 'portal',\n",
              " 'base',\n",
              " 'data',\n",
              " 'think',\n",
              " 'come',\n",
              " 'long']"
            ]
          },
          "metadata": {
            "tags": []
          },
          "execution_count": 73
        }
      ]
    },
    {
      "cell_type": "code",
      "metadata": {
        "colab": {
          "base_uri": "https://localhost:8080/"
        },
        "id": "EsdQnGF303ta",
        "outputId": "fb4df7a4-fcbc-4d43-b427-c3f89e0ac116"
      },
      "source": [
        "for index, score in sorted(lda_model[bow_corpus[4310]], key=lambda tup: -1*tup[1]):\n",
        "    print(\"\\nScore: {}\\t \\nTopic: {}\".format(score, lda_model.print_topic(index, 10)))"
      ],
      "execution_count": 74,
      "outputs": [
        {
          "output_type": "stream",
          "text": [
            "\n",
            "Score: 0.963999330997467\t \n",
            "Topic: 0.055*\"https\" + 0.029*\"good\" + 0.027*\"say\" + 0.023*\"info\" + 0.020*\"code\" + 0.020*\"come\" + 0.019*\"rat\" + 0.019*\"mkiamhzzi\" + 0.019*\"bank\" + 0.018*\"news\"\n"
          ],
          "name": "stdout"
        }
      ]
    },
    {
      "cell_type": "code",
      "metadata": {
        "colab": {
          "base_uri": "https://localhost:8080/"
        },
        "id": "ae87cxQm07Ft",
        "outputId": "8bbe341b-17e5-4ece-aff6-40b6f11cb40c"
      },
      "source": [
        "for index, score in sorted(lda_model_tfidf[bow_corpus[4310]], key=lambda tup: -1*tup[1]):\n",
        "    print(\"\\nScore: {}\\t \\nTopic: {}\".format(score, lda_model_tfidf.print_topic(index, 10)))"
      ],
      "execution_count": 75,
      "outputs": [
        {
          "output_type": "stream",
          "text": [
            "\n",
            "Score: 0.9639967083930969\t \n",
            "Topic: 0.013*\"gst_council\" + 0.013*\"good\" + 0.010*\"item\" + 0.010*\"half\" + 0.009*\"group\" + 0.008*\"common\" + 0.008*\"askgst_goi\" + 0.008*\"https\" + 0.008*\"alberta\" + 0.008*\"arunjaitley\"\n"
          ],
          "name": "stdout"
        }
      ]
    },
    {
      "cell_type": "code",
      "metadata": {
        "colab": {
          "base_uri": "https://localhost:8080/"
        },
        "id": "fsG3tBoU0-ny",
        "outputId": "7454a29a-e1e7-4a6d-a2db-8c034995fadd"
      },
      "source": [
        "unseen_document = 'The payment page is not working! @GSTN'\n",
        "bow_vector = dictionary.doc2bow(preprocess(unseen_document))\n",
        "\n",
        "for index, score in sorted(lda_model[bow_vector], key=lambda tup: -1*tup[1]):\n",
        "    print(\"Score: {}\\t Topic: {}\".format(score, lda_model.print_topic(index, 5)))"
      ],
      "execution_count": 76,
      "outputs": [
        {
          "output_type": "stream",
          "text": [
            "Score: 0.45861852169036865\t Topic: 0.067*\"https\" + 0.024*\"incom\" + 0.024*\"tax\" + 0.014*\"credit\" + 0.013*\"rebat\"\n",
            "Score: 0.3413599133491516\t Topic: 0.043*\"https\" + 0.022*\"right\" + 0.017*\"increas\" + 0.017*\"carbon\" + 0.016*\"get\"\n",
            "Score: 0.0250066090375185\t Topic: 0.055*\"https\" + 0.029*\"good\" + 0.027*\"say\" + 0.023*\"info\" + 0.020*\"code\"\n",
            "Score: 0.025003619492053986\t Topic: 0.045*\"bring\" + 0.044*\"inflat\" + 0.032*\"leav\" + 0.027*\"govt\" + 0.025*\"modi\"\n",
            "Score: 0.025003112852573395\t Topic: 0.041*\"https\" + 0.021*\"servic\" + 0.010*\"pay\" + 0.010*\"destroy\" + 0.009*\"pmoindia\"\n",
            "Score: 0.0250030979514122\t Topic: 0.065*\"busi\" + 0.065*\"tax\" + 0.037*\"gobackmodi\" + 0.030*\"tnwelcomesmodi\" + 0.030*\"eas\"\n",
            "Score: 0.02500166743993759\t Topic: 0.088*\"incom\" + 0.032*\"tax\" + 0.022*\"decad\" + 0.020*\"fuel\" + 0.019*\"https\"\n",
            "Score: 0.025001464411616325\t Topic: 0.054*\"tnwelcomesmodi\" + 0.049*\"dmkfail\" + 0.047*\"indirect\" + 0.033*\"https\" + 0.018*\"economi\"\n",
            "Score: 0.025001319125294685\t Topic: 0.053*\"lakh\" + 0.038*\"small\" + 0.036*\"modi\" + 0.036*\"https\" + 0.029*\"india\"\n",
            "Score: 0.025000719353556633\t Topic: 0.040*\"https\" + 0.036*\"indirect\" + 0.030*\"india\" + 0.029*\"tnwelcomesmodi\" + 0.026*\"dmkfail\"\n"
          ],
          "name": "stdout"
        }
      ]
    },
    {
      "cell_type": "code",
      "metadata": {
        "id": "xh5aPMcp1Jc2"
      },
      "source": [
        ""
      ],
      "execution_count": null,
      "outputs": []
    }
  ]
}